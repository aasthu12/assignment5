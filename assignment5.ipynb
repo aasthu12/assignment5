{
 "cells": [
  {
   "cell_type": "code",
   "execution_count": null,
   "id": "1bed3e22",
   "metadata": {},
   "outputs": [],
   "source": [
    "'''q1.What does an empty dictionary's code look like?\n",
    "a1.empty_dict={}'''\n"
   ]
  },
  {
   "cell_type": "code",
   "execution_count": null,
   "id": "8aa97013",
   "metadata": {},
   "outputs": [],
   "source": [
    "'''q2.What is the value of a dictionary value with the key 'foo' and the value 42?\n",
    "a2.  dict={'foo':42}'''"
   ]
  },
  {
   "cell_type": "code",
   "execution_count": null,
   "id": "8513bdad",
   "metadata": {},
   "outputs": [],
   "source": [
    "'''q3.What is the most significant distinction between a dictionary and a list?\n",
    "a3. when using a list we can access data based on their index. however in dictionary data is stored in the form of key value \n",
    "pair and values can be accessed using unique keys'''"
   ]
  },
  {
   "cell_type": "code",
   "execution_count": 1,
   "id": "291feb7e",
   "metadata": {},
   "outputs": [],
   "source": [
    "'''q4.What happens if you try to access spam['foo'] if spam is {'bar': 100}?'''\n",
    "spam={'bar':100}"
   ]
  },
  {
   "cell_type": "code",
   "execution_count": 2,
   "id": "a7169bc7",
   "metadata": {},
   "outputs": [
    {
     "ename": "KeyError",
     "evalue": "'foo'",
     "output_type": "error",
     "traceback": [
      "\u001b[1;31m---------------------------------------------------------------------------\u001b[0m",
      "\u001b[1;31mKeyError\u001b[0m                                  Traceback (most recent call last)",
      "Cell \u001b[1;32mIn[2], line 1\u001b[0m\n\u001b[1;32m----> 1\u001b[0m \u001b[43mspam\u001b[49m\u001b[43m[\u001b[49m\u001b[38;5;124;43m'\u001b[39;49m\u001b[38;5;124;43mfoo\u001b[39;49m\u001b[38;5;124;43m'\u001b[39;49m\u001b[43m]\u001b[49m\n",
      "\u001b[1;31mKeyError\u001b[0m: 'foo'"
     ]
    }
   ],
   "source": [
    "spam['foo']"
   ]
  },
  {
   "cell_type": "code",
   "execution_count": null,
   "id": "8195bd15",
   "metadata": {},
   "outputs": [],
   "source": [
    "'''q5.If a dictionary is stored in spam, what is the difference between the expressions 'cat'; in spam and\n",
    "'cat'; in spam.keys()?\n",
    "a5. both the methods will give the same result however the first case will check for 'cat' in the keys of the disctionary \n",
    "and return true or false and 'cat' in spam.keys() will first collect all the keys of the dictionary to have a collective view \n",
    "and search for 'cat' from the list of keys obtained'''"
   ]
  },
  {
   "cell_type": "code",
   "execution_count": 4,
   "id": "aca7b5be",
   "metadata": {},
   "outputs": [],
   "source": [
    "spam={'cat':100,'dog':120,'pig':40,'cow':200}"
   ]
  },
  {
   "cell_type": "code",
   "execution_count": 5,
   "id": "d9d78cfd",
   "metadata": {},
   "outputs": [
    {
     "data": {
      "text/plain": [
       "True"
      ]
     },
     "execution_count": 5,
     "metadata": {},
     "output_type": "execute_result"
    }
   ],
   "source": [
    "'cat' in spam"
   ]
  },
  {
   "cell_type": "code",
   "execution_count": 6,
   "id": "132f906a",
   "metadata": {},
   "outputs": [
    {
     "data": {
      "text/plain": [
       "True"
      ]
     },
     "execution_count": 6,
     "metadata": {},
     "output_type": "execute_result"
    }
   ],
   "source": [
    "'cat' in spam.keys()"
   ]
  },
  {
   "cell_type": "code",
   "execution_count": null,
   "id": "54e38b55",
   "metadata": {},
   "outputs": [],
   "source": [
    "'''q6.If a dictionary is stored in spam, what is the difference between the expressions 'cat' in spam and\n",
    "'cat' in spam.values()?\n",
    "A6. 'cat' in spam will check if there is a key named 'cat' in spam however 'cat' in spam.values() will check if 'cat' exists \n",
    "as a value within spam'''\n"
   ]
  },
  {
   "cell_type": "code",
   "execution_count": null,
   "id": "8e514147",
   "metadata": {},
   "outputs": [],
   "source": [
    "'''q7.What is a shortcut for the following code?\n",
    "if 'color' not in spam:\n",
    "spam['color'] = 'black' \n",
    "A7. spam.setdefault('color', 'black')'''"
   ]
  },
  {
   "cell_type": "code",
   "execution_count": null,
   "id": "920a8586",
   "metadata": {},
   "outputs": [],
   "source": [
    "'''q8. How do you 'pretty print' dictionary values using which module and function?'''"
   ]
  },
  {
   "cell_type": "code",
   "execution_count": 8,
   "id": "c0e9a509",
   "metadata": {},
   "outputs": [
    {
     "name": "stdout",
     "output_type": "stream",
     "text": [
      "{'address': 'Meerut',\n",
      " 'age': 26,\n",
      " 'name': 'Aastha'}\n"
     ]
    }
   ],
   "source": [
    "import pprint\n",
    "data = {'name': 'Aastha', 'age': 26, 'address': 'Meerut'}\n",
    "pprint.PrettyPrinter(width=20).pprint(data)"
   ]
  },
  {
   "cell_type": "code",
   "execution_count": null,
   "id": "8a4c6c3e",
   "metadata": {},
   "outputs": [],
   "source": []
  },
  {
   "cell_type": "code",
   "execution_count": null,
   "id": "4489a03c",
   "metadata": {},
   "outputs": [],
   "source": []
  }
 ],
 "metadata": {
  "kernelspec": {
   "display_name": "Python 3 (ipykernel)",
   "language": "python",
   "name": "python3"
  },
  "language_info": {
   "codemirror_mode": {
    "name": "ipython",
    "version": 3
   },
   "file_extension": ".py",
   "mimetype": "text/x-python",
   "name": "python",
   "nbconvert_exporter": "python",
   "pygments_lexer": "ipython3",
   "version": "3.10.9"
  }
 },
 "nbformat": 4,
 "nbformat_minor": 5
}
